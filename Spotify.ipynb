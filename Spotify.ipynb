{
 "cells": [
  {
   "cell_type": "code",
   "execution_count": 33,
   "metadata": {},
   "outputs": [],
   "source": [
    "import pandas as pd\n",
    "import numpy as np\n",
    "import seaborn as sns\n",
    "import spotipy\n",
    "from spotipy.oauth2 import SpotifyClientCredentials\n",
    "import spotipy.util as util"
   ]
  },
  {
   "cell_type": "code",
   "execution_count": 34,
   "metadata": {},
   "outputs": [],
   "source": [
    "client = '4ca94e3259af4f8c9bbffc783a8db3b7'\n",
    "secret = '9c7476b0253f49aeb17ef953e927d433'\n",
    "username = 'tiff_chung'\n",
    "redirect_uri = 'https://developer.spotify.com/dashboard/applications/4ca94e3259af4f8c9bbffc783a8db3b7'\n",
    "scope = 'user-library-read playlist-modify-public playlist-read-private'\n",
    "\n",
    "#DO NOT CHANGE\n",
    "client_credentials_manager = SpotifyClientCredentials(client_id = client, client_secret = secret)\n",
    "sp = spotipy.Spotify(client_credentials_manager =  client_credentials_manager)\n",
    "token = util.prompt_for_user_token(username, scope, client, secret, redirect_uri)\n",
    "\n",
    "if token:\n",
    "   sp = spotipy.Spotify(auth=token)\n",
    "else:\n",
    "   print(\"Can't get token for\", username)"
   ]
  },
  {
   "cell_type": "code",
   "execution_count": 35,
   "metadata": {},
   "outputs": [
    {
     "name": "stdout",
     "output_type": "stream",
     "text": [
      "60\n",
      "60\n"
     ]
    }
   ],
   "source": [
    "good_playlist = '0TuzZLFHHuQ7qoDdqCEe5X'\n",
    "temp = sp.user_playlist(username, good_playlist)[\"tracks\"][\"items\"]\n",
    "#print(temp)\n",
    "names = []\n",
    "ids= []\n",
    "features= []\n",
    "\n",
    "for i in temp:\n",
    "    ids.append(i[\"track\"][\"id\"])\n",
    "    names.append(i[\"track\"][\"name\"])\n",
    "    \n",
    "for i in sp.audio_features(ids):\n",
    "    features.append(i)\n",
    "\n",
    "#37i9dQZF1DX1lVhptIYRda?si=X1EK8g8KSbSJ_ehngyqLow    \n",
    "bad_playlist = '37i9dQZF1DX9qNs32fujYe?si=0tfxeeywRJSu1qzuo5ijnA'\n",
    "bad_temp = sp.user_playlist(username, bad_playlist) [\"tracks\"][\"items\"]\n",
    "bad_names = []\n",
    "bad_ids = []\n",
    "bad_features = []\n",
    "\n",
    "for i in bad_temp:\n",
    "    bad_ids.append(i[\"track\"][\"id\"])\n",
    "    bad_names.append(i[\"track\"][\"name\"])\n",
    "    \n",
    "for i in sp.audio_features(bad_ids):\n",
    "    bad_features.append(i)\n",
    "    \n",
    "print(len(bad_features))\n",
    "print(len(bad_ids))\n"
   ]
  },
  {
   "cell_type": "code",
   "execution_count": 36,
   "metadata": {},
   "outputs": [
    {
     "data": {
      "text/html": [
       "<div>\n",
       "<style scoped>\n",
       "    .dataframe tbody tr th:only-of-type {\n",
       "        vertical-align: middle;\n",
       "    }\n",
       "\n",
       "    .dataframe tbody tr th {\n",
       "        vertical-align: top;\n",
       "    }\n",
       "\n",
       "    .dataframe thead th {\n",
       "        text-align: right;\n",
       "    }\n",
       "</style>\n",
       "<table border=\"1\" class=\"dataframe\">\n",
       "  <thead>\n",
       "    <tr style=\"text-align: right;\">\n",
       "      <th></th>\n",
       "      <th>acousticness</th>\n",
       "      <th>analysis_url</th>\n",
       "      <th>danceability</th>\n",
       "      <th>duration_ms</th>\n",
       "      <th>energy</th>\n",
       "      <th>id</th>\n",
       "      <th>instrumentalness</th>\n",
       "      <th>key</th>\n",
       "      <th>liveness</th>\n",
       "      <th>loudness</th>\n",
       "      <th>mode</th>\n",
       "      <th>speechiness</th>\n",
       "      <th>tempo</th>\n",
       "      <th>time_signature</th>\n",
       "      <th>track_href</th>\n",
       "      <th>type</th>\n",
       "      <th>uri</th>\n",
       "      <th>valence</th>\n",
       "    </tr>\n",
       "  </thead>\n",
       "  <tbody>\n",
       "    <tr>\n",
       "      <th>Solo</th>\n",
       "      <td>0.849</td>\n",
       "      <td>https://api.spotify.com/v1/audio-analysis/35xS...</td>\n",
       "      <td>0.444</td>\n",
       "      <td>257380</td>\n",
       "      <td>0.287</td>\n",
       "      <td>35xSkNIXi504fcEwz9USRB</td>\n",
       "      <td>0.000003</td>\n",
       "      <td>5</td>\n",
       "      <td>0.1610</td>\n",
       "      <td>-10.631</td>\n",
       "      <td>0</td>\n",
       "      <td>0.0375</td>\n",
       "      <td>124.027</td>\n",
       "      <td>4</td>\n",
       "      <td>https://api.spotify.com/v1/tracks/35xSkNIXi504...</td>\n",
       "      <td>audio_features</td>\n",
       "      <td>spotify:track:35xSkNIXi504fcEwz9USRB</td>\n",
       "      <td>0.246</td>\n",
       "    </tr>\n",
       "    <tr>\n",
       "      <th>Saved</th>\n",
       "      <td>0.189</td>\n",
       "      <td>https://api.spotify.com/v1/audio-analysis/248O...</td>\n",
       "      <td>0.739</td>\n",
       "      <td>206533</td>\n",
       "      <td>0.448</td>\n",
       "      <td>248OFOZef6ShXv6DGgbnxU</td>\n",
       "      <td>0.000000</td>\n",
       "      <td>10</td>\n",
       "      <td>0.1180</td>\n",
       "      <td>-10.280</td>\n",
       "      <td>0</td>\n",
       "      <td>0.1380</td>\n",
       "      <td>81.044</td>\n",
       "      <td>4</td>\n",
       "      <td>https://api.spotify.com/v1/tracks/248OFOZef6Sh...</td>\n",
       "      <td>audio_features</td>\n",
       "      <td>spotify:track:248OFOZef6ShXv6DGgbnxU</td>\n",
       "      <td>0.553</td>\n",
       "    </tr>\n",
       "    <tr>\n",
       "      <th>STFU</th>\n",
       "      <td>0.160</td>\n",
       "      <td>https://api.spotify.com/v1/audio-analysis/2p4p...</td>\n",
       "      <td>0.824</td>\n",
       "      <td>230878</td>\n",
       "      <td>0.470</td>\n",
       "      <td>2p4p9YGwmJIdf5IA9sSWhm</td>\n",
       "      <td>0.000000</td>\n",
       "      <td>1</td>\n",
       "      <td>0.1500</td>\n",
       "      <td>-7.459</td>\n",
       "      <td>0</td>\n",
       "      <td>0.1760</td>\n",
       "      <td>134.922</td>\n",
       "      <td>4</td>\n",
       "      <td>https://api.spotify.com/v1/tracks/2p4p9YGwmJId...</td>\n",
       "      <td>audio_features</td>\n",
       "      <td>spotify:track:2p4p9YGwmJIdf5IA9sSWhm</td>\n",
       "      <td>0.437</td>\n",
       "    </tr>\n",
       "    <tr>\n",
       "      <th>Get You (feat. Kali Uchis)</th>\n",
       "      <td>0.426</td>\n",
       "      <td>https://api.spotify.com/v1/audio-analysis/6N3q...</td>\n",
       "      <td>0.659</td>\n",
       "      <td>277297</td>\n",
       "      <td>0.295</td>\n",
       "      <td>6N3qHjcwly8ZuhE4bPYJAX</td>\n",
       "      <td>0.000069</td>\n",
       "      <td>11</td>\n",
       "      <td>0.0795</td>\n",
       "      <td>-8.528</td>\n",
       "      <td>0</td>\n",
       "      <td>0.0322</td>\n",
       "      <td>74.037</td>\n",
       "      <td>4</td>\n",
       "      <td>https://api.spotify.com/v1/tracks/6N3qHjcwly8Z...</td>\n",
       "      <td>audio_features</td>\n",
       "      <td>spotify:track:6N3qHjcwly8ZuhE4bPYJAX</td>\n",
       "      <td>0.360</td>\n",
       "    </tr>\n",
       "    <tr>\n",
       "      <th>Gorgeous</th>\n",
       "      <td>0.353</td>\n",
       "      <td>https://api.spotify.com/v1/audio-analysis/75Q6...</td>\n",
       "      <td>0.834</td>\n",
       "      <td>148494</td>\n",
       "      <td>0.551</td>\n",
       "      <td>75Q69chmd8CEZbVsA4CDMm</td>\n",
       "      <td>0.000000</td>\n",
       "      <td>5</td>\n",
       "      <td>0.1030</td>\n",
       "      <td>-4.217</td>\n",
       "      <td>1</td>\n",
       "      <td>0.4300</td>\n",
       "      <td>76.938</td>\n",
       "      <td>4</td>\n",
       "      <td>https://api.spotify.com/v1/tracks/75Q69chmd8CE...</td>\n",
       "      <td>audio_features</td>\n",
       "      <td>spotify:track:75Q69chmd8CEZbVsA4CDMm</td>\n",
       "      <td>0.500</td>\n",
       "    </tr>\n",
       "  </tbody>\n",
       "</table>\n",
       "</div>"
      ],
      "text/plain": [
       "                            acousticness  \\\n",
       "Solo                               0.849   \n",
       "Saved                              0.189   \n",
       "STFU                               0.160   \n",
       "Get You (feat. Kali Uchis)         0.426   \n",
       "Gorgeous                           0.353   \n",
       "\n",
       "                                                                 analysis_url  \\\n",
       "Solo                        https://api.spotify.com/v1/audio-analysis/35xS...   \n",
       "Saved                       https://api.spotify.com/v1/audio-analysis/248O...   \n",
       "STFU                        https://api.spotify.com/v1/audio-analysis/2p4p...   \n",
       "Get You (feat. Kali Uchis)  https://api.spotify.com/v1/audio-analysis/6N3q...   \n",
       "Gorgeous                    https://api.spotify.com/v1/audio-analysis/75Q6...   \n",
       "\n",
       "                            danceability  duration_ms  energy  \\\n",
       "Solo                               0.444       257380   0.287   \n",
       "Saved                              0.739       206533   0.448   \n",
       "STFU                               0.824       230878   0.470   \n",
       "Get You (feat. Kali Uchis)         0.659       277297   0.295   \n",
       "Gorgeous                           0.834       148494   0.551   \n",
       "\n",
       "                                                id  instrumentalness  key  \\\n",
       "Solo                        35xSkNIXi504fcEwz9USRB          0.000003    5   \n",
       "Saved                       248OFOZef6ShXv6DGgbnxU          0.000000   10   \n",
       "STFU                        2p4p9YGwmJIdf5IA9sSWhm          0.000000    1   \n",
       "Get You (feat. Kali Uchis)  6N3qHjcwly8ZuhE4bPYJAX          0.000069   11   \n",
       "Gorgeous                    75Q69chmd8CEZbVsA4CDMm          0.000000    5   \n",
       "\n",
       "                            liveness  loudness  mode  speechiness    tempo  \\\n",
       "Solo                          0.1610   -10.631     0       0.0375  124.027   \n",
       "Saved                         0.1180   -10.280     0       0.1380   81.044   \n",
       "STFU                          0.1500    -7.459     0       0.1760  134.922   \n",
       "Get You (feat. Kali Uchis)    0.0795    -8.528     0       0.0322   74.037   \n",
       "Gorgeous                      0.1030    -4.217     1       0.4300   76.938   \n",
       "\n",
       "                            time_signature  \\\n",
       "Solo                                     4   \n",
       "Saved                                    4   \n",
       "STFU                                     4   \n",
       "Get You (feat. Kali Uchis)               4   \n",
       "Gorgeous                                 4   \n",
       "\n",
       "                                                                   track_href  \\\n",
       "Solo                        https://api.spotify.com/v1/tracks/35xSkNIXi504...   \n",
       "Saved                       https://api.spotify.com/v1/tracks/248OFOZef6Sh...   \n",
       "STFU                        https://api.spotify.com/v1/tracks/2p4p9YGwmJId...   \n",
       "Get You (feat. Kali Uchis)  https://api.spotify.com/v1/tracks/6N3qHjcwly8Z...   \n",
       "Gorgeous                    https://api.spotify.com/v1/tracks/75Q69chmd8CE...   \n",
       "\n",
       "                                      type  \\\n",
       "Solo                        audio_features   \n",
       "Saved                       audio_features   \n",
       "STFU                        audio_features   \n",
       "Get You (feat. Kali Uchis)  audio_features   \n",
       "Gorgeous                    audio_features   \n",
       "\n",
       "                                                             uri  valence  \n",
       "Solo                        spotify:track:35xSkNIXi504fcEwz9USRB    0.246  \n",
       "Saved                       spotify:track:248OFOZef6ShXv6DGgbnxU    0.553  \n",
       "STFU                        spotify:track:2p4p9YGwmJIdf5IA9sSWhm    0.437  \n",
       "Get You (feat. Kali Uchis)  spotify:track:6N3qHjcwly8ZuhE4bPYJAX    0.360  \n",
       "Gorgeous                    spotify:track:75Q69chmd8CEZbVsA4CDMm    0.500  "
      ]
     },
     "execution_count": 36,
     "metadata": {},
     "output_type": "execute_result"
    }
   ],
   "source": [
    "good_df = pd.DataFrame(features, index= names)\n",
    "good_df.head()"
   ]
  },
  {
   "cell_type": "code",
   "execution_count": 37,
   "metadata": {},
   "outputs": [
    {
     "data": {
      "text/html": [
       "<div>\n",
       "<style scoped>\n",
       "    .dataframe tbody tr th:only-of-type {\n",
       "        vertical-align: middle;\n",
       "    }\n",
       "\n",
       "    .dataframe tbody tr th {\n",
       "        vertical-align: top;\n",
       "    }\n",
       "\n",
       "    .dataframe thead th {\n",
       "        text-align: right;\n",
       "    }\n",
       "</style>\n",
       "<table border=\"1\" class=\"dataframe\">\n",
       "  <thead>\n",
       "    <tr style=\"text-align: right;\">\n",
       "      <th></th>\n",
       "      <th>acousticness</th>\n",
       "      <th>analysis_url</th>\n",
       "      <th>danceability</th>\n",
       "      <th>duration_ms</th>\n",
       "      <th>energy</th>\n",
       "      <th>id</th>\n",
       "      <th>instrumentalness</th>\n",
       "      <th>key</th>\n",
       "      <th>liveness</th>\n",
       "      <th>loudness</th>\n",
       "      <th>mode</th>\n",
       "      <th>speechiness</th>\n",
       "      <th>tempo</th>\n",
       "      <th>time_signature</th>\n",
       "      <th>track_href</th>\n",
       "      <th>type</th>\n",
       "      <th>uri</th>\n",
       "      <th>valence</th>\n",
       "    </tr>\n",
       "  </thead>\n",
       "  <tbody>\n",
       "    <tr>\n",
       "      <th>Virus</th>\n",
       "      <td>0.000238</td>\n",
       "      <td>https://api.spotify.com/v1/audio-analysis/4vV7...</td>\n",
       "      <td>0.389</td>\n",
       "      <td>182424</td>\n",
       "      <td>0.993</td>\n",
       "      <td>4vV7hKi3prsHYFl7Pauip1</td>\n",
       "      <td>0.00000</td>\n",
       "      <td>4</td>\n",
       "      <td>0.211</td>\n",
       "      <td>-2.272</td>\n",
       "      <td>0</td>\n",
       "      <td>0.1510</td>\n",
       "      <td>198.086</td>\n",
       "      <td>4</td>\n",
       "      <td>https://api.spotify.com/v1/tracks/4vV7hKi3prsH...</td>\n",
       "      <td>audio_features</td>\n",
       "      <td>spotify:track:4vV7hKi3prsHYFl7Pauip1</td>\n",
       "      <td>0.2820</td>\n",
       "    </tr>\n",
       "    <tr>\n",
       "      <th>Djinn</th>\n",
       "      <td>0.001690</td>\n",
       "      <td>https://api.spotify.com/v1/audio-analysis/1d83...</td>\n",
       "      <td>0.422</td>\n",
       "      <td>448987</td>\n",
       "      <td>0.972</td>\n",
       "      <td>1d83wPKf71qUr3iWhxD2vn</td>\n",
       "      <td>0.02790</td>\n",
       "      <td>9</td>\n",
       "      <td>0.243</td>\n",
       "      <td>-5.395</td>\n",
       "      <td>1</td>\n",
       "      <td>0.1130</td>\n",
       "      <td>108.054</td>\n",
       "      <td>3</td>\n",
       "      <td>https://api.spotify.com/v1/tracks/1d83wPKf71qU...</td>\n",
       "      <td>audio_features</td>\n",
       "      <td>spotify:track:1d83wPKf71qUr3iWhxD2vn</td>\n",
       "      <td>0.1610</td>\n",
       "    </tr>\n",
       "    <tr>\n",
       "      <th>The Light, The Fire</th>\n",
       "      <td>0.003260</td>\n",
       "      <td>https://api.spotify.com/v1/audio-analysis/6kSu...</td>\n",
       "      <td>0.453</td>\n",
       "      <td>226091</td>\n",
       "      <td>0.919</td>\n",
       "      <td>6kSu9z1V5xBNZTxcPEKVO8</td>\n",
       "      <td>0.03210</td>\n",
       "      <td>1</td>\n",
       "      <td>0.360</td>\n",
       "      <td>-5.387</td>\n",
       "      <td>1</td>\n",
       "      <td>0.0426</td>\n",
       "      <td>88.490</td>\n",
       "      <td>4</td>\n",
       "      <td>https://api.spotify.com/v1/tracks/6kSu9z1V5xBN...</td>\n",
       "      <td>audio_features</td>\n",
       "      <td>spotify:track:6kSu9z1V5xBNZTxcPEKVO8</td>\n",
       "      <td>0.4550</td>\n",
       "    </tr>\n",
       "    <tr>\n",
       "      <th>Death Knell for a King</th>\n",
       "      <td>0.000155</td>\n",
       "      <td>https://api.spotify.com/v1/audio-analysis/5Ixj...</td>\n",
       "      <td>0.501</td>\n",
       "      <td>233142</td>\n",
       "      <td>0.991</td>\n",
       "      <td>5IxjGTmS5MIazVDRRiH9jI</td>\n",
       "      <td>0.00256</td>\n",
       "      <td>4</td>\n",
       "      <td>0.344</td>\n",
       "      <td>-4.730</td>\n",
       "      <td>0</td>\n",
       "      <td>0.0528</td>\n",
       "      <td>102.509</td>\n",
       "      <td>4</td>\n",
       "      <td>https://api.spotify.com/v1/tracks/5IxjGTmS5MIa...</td>\n",
       "      <td>audio_features</td>\n",
       "      <td>spotify:track:5IxjGTmS5MIazVDRRiH9jI</td>\n",
       "      <td>0.5570</td>\n",
       "    </tr>\n",
       "    <tr>\n",
       "      <th>Urth</th>\n",
       "      <td>0.000008</td>\n",
       "      <td>https://api.spotify.com/v1/audio-analysis/3ne5...</td>\n",
       "      <td>0.414</td>\n",
       "      <td>293533</td>\n",
       "      <td>0.996</td>\n",
       "      <td>3ne57ejxOaaZrg7obarZnt</td>\n",
       "      <td>0.10800</td>\n",
       "      <td>0</td>\n",
       "      <td>0.243</td>\n",
       "      <td>-4.788</td>\n",
       "      <td>1</td>\n",
       "      <td>0.1830</td>\n",
       "      <td>164.995</td>\n",
       "      <td>4</td>\n",
       "      <td>https://api.spotify.com/v1/tracks/3ne57ejxOaaZ...</td>\n",
       "      <td>audio_features</td>\n",
       "      <td>spotify:track:3ne57ejxOaaZrg7obarZnt</td>\n",
       "      <td>0.0745</td>\n",
       "    </tr>\n",
       "  </tbody>\n",
       "</table>\n",
       "</div>"
      ],
      "text/plain": [
       "                        acousticness  \\\n",
       "Virus                       0.000238   \n",
       "Djinn                       0.001690   \n",
       "The Light, The Fire         0.003260   \n",
       "Death Knell for a King      0.000155   \n",
       "Urth                        0.000008   \n",
       "\n",
       "                                                             analysis_url  \\\n",
       "Virus                   https://api.spotify.com/v1/audio-analysis/4vV7...   \n",
       "Djinn                   https://api.spotify.com/v1/audio-analysis/1d83...   \n",
       "The Light, The Fire     https://api.spotify.com/v1/audio-analysis/6kSu...   \n",
       "Death Knell for a King  https://api.spotify.com/v1/audio-analysis/5Ixj...   \n",
       "Urth                    https://api.spotify.com/v1/audio-analysis/3ne5...   \n",
       "\n",
       "                        danceability  duration_ms  energy  \\\n",
       "Virus                          0.389       182424   0.993   \n",
       "Djinn                          0.422       448987   0.972   \n",
       "The Light, The Fire            0.453       226091   0.919   \n",
       "Death Knell for a King         0.501       233142   0.991   \n",
       "Urth                           0.414       293533   0.996   \n",
       "\n",
       "                                            id  instrumentalness  key  \\\n",
       "Virus                   4vV7hKi3prsHYFl7Pauip1           0.00000    4   \n",
       "Djinn                   1d83wPKf71qUr3iWhxD2vn           0.02790    9   \n",
       "The Light, The Fire     6kSu9z1V5xBNZTxcPEKVO8           0.03210    1   \n",
       "Death Knell for a King  5IxjGTmS5MIazVDRRiH9jI           0.00256    4   \n",
       "Urth                    3ne57ejxOaaZrg7obarZnt           0.10800    0   \n",
       "\n",
       "                        liveness  loudness  mode  speechiness    tempo  \\\n",
       "Virus                      0.211    -2.272     0       0.1510  198.086   \n",
       "Djinn                      0.243    -5.395     1       0.1130  108.054   \n",
       "The Light, The Fire        0.360    -5.387     1       0.0426   88.490   \n",
       "Death Knell for a King     0.344    -4.730     0       0.0528  102.509   \n",
       "Urth                       0.243    -4.788     1       0.1830  164.995   \n",
       "\n",
       "                        time_signature  \\\n",
       "Virus                                4   \n",
       "Djinn                                3   \n",
       "The Light, The Fire                  4   \n",
       "Death Knell for a King               4   \n",
       "Urth                                 4   \n",
       "\n",
       "                                                               track_href  \\\n",
       "Virus                   https://api.spotify.com/v1/tracks/4vV7hKi3prsH...   \n",
       "Djinn                   https://api.spotify.com/v1/tracks/1d83wPKf71qU...   \n",
       "The Light, The Fire     https://api.spotify.com/v1/tracks/6kSu9z1V5xBN...   \n",
       "Death Knell for a King  https://api.spotify.com/v1/tracks/5IxjGTmS5MIa...   \n",
       "Urth                    https://api.spotify.com/v1/tracks/3ne57ejxOaaZ...   \n",
       "\n",
       "                                  type                                   uri  \\\n",
       "Virus                   audio_features  spotify:track:4vV7hKi3prsHYFl7Pauip1   \n",
       "Djinn                   audio_features  spotify:track:1d83wPKf71qUr3iWhxD2vn   \n",
       "The Light, The Fire     audio_features  spotify:track:6kSu9z1V5xBNZTxcPEKVO8   \n",
       "Death Knell for a King  audio_features  spotify:track:5IxjGTmS5MIazVDRRiH9jI   \n",
       "Urth                    audio_features  spotify:track:3ne57ejxOaaZrg7obarZnt   \n",
       "\n",
       "                        valence  \n",
       "Virus                    0.2820  \n",
       "Djinn                    0.1610  \n",
       "The Light, The Fire      0.4550  \n",
       "Death Knell for a King   0.5570  \n",
       "Urth                     0.0745  "
      ]
     },
     "execution_count": 37,
     "metadata": {},
     "output_type": "execute_result"
    }
   ],
   "source": [
    "bad_df = pd.DataFrame(bad_features, index = bad_names)\n",
    "bad_df.head()"
   ]
  },
  {
   "cell_type": "code",
   "execution_count": 38,
   "metadata": {},
   "outputs": [
    {
     "data": {
      "text/html": [
       "<div>\n",
       "<style scoped>\n",
       "    .dataframe tbody tr th:only-of-type {\n",
       "        vertical-align: middle;\n",
       "    }\n",
       "\n",
       "    .dataframe tbody tr th {\n",
       "        vertical-align: top;\n",
       "    }\n",
       "\n",
       "    .dataframe thead th {\n",
       "        text-align: right;\n",
       "    }\n",
       "</style>\n",
       "<table border=\"1\" class=\"dataframe\">\n",
       "  <thead>\n",
       "    <tr style=\"text-align: right;\">\n",
       "      <th></th>\n",
       "      <th>acousticness</th>\n",
       "      <th>danceability</th>\n",
       "      <th>energy</th>\n",
       "      <th>id</th>\n",
       "      <th>instrumentalness</th>\n",
       "      <th>key</th>\n",
       "      <th>liveness</th>\n",
       "      <th>loudness</th>\n",
       "      <th>mode</th>\n",
       "      <th>speechiness</th>\n",
       "      <th>tempo</th>\n",
       "      <th>time_signature</th>\n",
       "      <th>valence</th>\n",
       "    </tr>\n",
       "  </thead>\n",
       "  <tbody>\n",
       "    <tr>\n",
       "      <th>Solo</th>\n",
       "      <td>0.849</td>\n",
       "      <td>0.444</td>\n",
       "      <td>0.287</td>\n",
       "      <td>35xSkNIXi504fcEwz9USRB</td>\n",
       "      <td>0.000003</td>\n",
       "      <td>5</td>\n",
       "      <td>0.1610</td>\n",
       "      <td>-10.631</td>\n",
       "      <td>0</td>\n",
       "      <td>0.0375</td>\n",
       "      <td>124.027</td>\n",
       "      <td>4</td>\n",
       "      <td>0.246</td>\n",
       "    </tr>\n",
       "    <tr>\n",
       "      <th>Saved</th>\n",
       "      <td>0.189</td>\n",
       "      <td>0.739</td>\n",
       "      <td>0.448</td>\n",
       "      <td>248OFOZef6ShXv6DGgbnxU</td>\n",
       "      <td>0.000000</td>\n",
       "      <td>10</td>\n",
       "      <td>0.1180</td>\n",
       "      <td>-10.280</td>\n",
       "      <td>0</td>\n",
       "      <td>0.1380</td>\n",
       "      <td>81.044</td>\n",
       "      <td>4</td>\n",
       "      <td>0.553</td>\n",
       "    </tr>\n",
       "    <tr>\n",
       "      <th>STFU</th>\n",
       "      <td>0.160</td>\n",
       "      <td>0.824</td>\n",
       "      <td>0.470</td>\n",
       "      <td>2p4p9YGwmJIdf5IA9sSWhm</td>\n",
       "      <td>0.000000</td>\n",
       "      <td>1</td>\n",
       "      <td>0.1500</td>\n",
       "      <td>-7.459</td>\n",
       "      <td>0</td>\n",
       "      <td>0.1760</td>\n",
       "      <td>134.922</td>\n",
       "      <td>4</td>\n",
       "      <td>0.437</td>\n",
       "    </tr>\n",
       "    <tr>\n",
       "      <th>Get You (feat. Kali Uchis)</th>\n",
       "      <td>0.426</td>\n",
       "      <td>0.659</td>\n",
       "      <td>0.295</td>\n",
       "      <td>6N3qHjcwly8ZuhE4bPYJAX</td>\n",
       "      <td>0.000069</td>\n",
       "      <td>11</td>\n",
       "      <td>0.0795</td>\n",
       "      <td>-8.528</td>\n",
       "      <td>0</td>\n",
       "      <td>0.0322</td>\n",
       "      <td>74.037</td>\n",
       "      <td>4</td>\n",
       "      <td>0.360</td>\n",
       "    </tr>\n",
       "    <tr>\n",
       "      <th>Gorgeous</th>\n",
       "      <td>0.353</td>\n",
       "      <td>0.834</td>\n",
       "      <td>0.551</td>\n",
       "      <td>75Q69chmd8CEZbVsA4CDMm</td>\n",
       "      <td>0.000000</td>\n",
       "      <td>5</td>\n",
       "      <td>0.1030</td>\n",
       "      <td>-4.217</td>\n",
       "      <td>1</td>\n",
       "      <td>0.4300</td>\n",
       "      <td>76.938</td>\n",
       "      <td>4</td>\n",
       "      <td>0.500</td>\n",
       "    </tr>\n",
       "  </tbody>\n",
       "</table>\n",
       "</div>"
      ],
      "text/plain": [
       "                            acousticness  danceability  energy  \\\n",
       "Solo                               0.849         0.444   0.287   \n",
       "Saved                              0.189         0.739   0.448   \n",
       "STFU                               0.160         0.824   0.470   \n",
       "Get You (feat. Kali Uchis)         0.426         0.659   0.295   \n",
       "Gorgeous                           0.353         0.834   0.551   \n",
       "\n",
       "                                                id  instrumentalness  key  \\\n",
       "Solo                        35xSkNIXi504fcEwz9USRB          0.000003    5   \n",
       "Saved                       248OFOZef6ShXv6DGgbnxU          0.000000   10   \n",
       "STFU                        2p4p9YGwmJIdf5IA9sSWhm          0.000000    1   \n",
       "Get You (feat. Kali Uchis)  6N3qHjcwly8ZuhE4bPYJAX          0.000069   11   \n",
       "Gorgeous                    75Q69chmd8CEZbVsA4CDMm          0.000000    5   \n",
       "\n",
       "                            liveness  loudness  mode  speechiness    tempo  \\\n",
       "Solo                          0.1610   -10.631     0       0.0375  124.027   \n",
       "Saved                         0.1180   -10.280     0       0.1380   81.044   \n",
       "STFU                          0.1500    -7.459     0       0.1760  134.922   \n",
       "Get You (feat. Kali Uchis)    0.0795    -8.528     0       0.0322   74.037   \n",
       "Gorgeous                      0.1030    -4.217     1       0.4300   76.938   \n",
       "\n",
       "                            time_signature  valence  \n",
       "Solo                                     4    0.246  \n",
       "Saved                                    4    0.553  \n",
       "STFU                                     4    0.437  \n",
       "Get You (feat. Kali Uchis)               4    0.360  \n",
       "Gorgeous                                 4    0.500  "
      ]
     },
     "execution_count": 38,
     "metadata": {},
     "output_type": "execute_result"
    }
   ],
   "source": [
    "good_df = good_df.drop(columns=[\"analysis_url\", \"track_href\", \"type\",\"uri\", \"duration_ms\"])\n",
    "good_df.head()"
   ]
  },
  {
   "cell_type": "code",
   "execution_count": 39,
   "metadata": {},
   "outputs": [
    {
     "data": {
      "text/html": [
       "<div>\n",
       "<style scoped>\n",
       "    .dataframe tbody tr th:only-of-type {\n",
       "        vertical-align: middle;\n",
       "    }\n",
       "\n",
       "    .dataframe tbody tr th {\n",
       "        vertical-align: top;\n",
       "    }\n",
       "\n",
       "    .dataframe thead th {\n",
       "        text-align: right;\n",
       "    }\n",
       "</style>\n",
       "<table border=\"1\" class=\"dataframe\">\n",
       "  <thead>\n",
       "    <tr style=\"text-align: right;\">\n",
       "      <th></th>\n",
       "      <th>acousticness</th>\n",
       "      <th>danceability</th>\n",
       "      <th>energy</th>\n",
       "      <th>id</th>\n",
       "      <th>instrumentalness</th>\n",
       "      <th>key</th>\n",
       "      <th>liveness</th>\n",
       "      <th>loudness</th>\n",
       "      <th>mode</th>\n",
       "      <th>speechiness</th>\n",
       "      <th>tempo</th>\n",
       "      <th>time_signature</th>\n",
       "      <th>valence</th>\n",
       "    </tr>\n",
       "  </thead>\n",
       "  <tbody>\n",
       "    <tr>\n",
       "      <th>Virus</th>\n",
       "      <td>0.000238</td>\n",
       "      <td>0.389</td>\n",
       "      <td>0.993</td>\n",
       "      <td>4vV7hKi3prsHYFl7Pauip1</td>\n",
       "      <td>0.00000</td>\n",
       "      <td>4</td>\n",
       "      <td>0.211</td>\n",
       "      <td>-2.272</td>\n",
       "      <td>0</td>\n",
       "      <td>0.1510</td>\n",
       "      <td>198.086</td>\n",
       "      <td>4</td>\n",
       "      <td>0.2820</td>\n",
       "    </tr>\n",
       "    <tr>\n",
       "      <th>Djinn</th>\n",
       "      <td>0.001690</td>\n",
       "      <td>0.422</td>\n",
       "      <td>0.972</td>\n",
       "      <td>1d83wPKf71qUr3iWhxD2vn</td>\n",
       "      <td>0.02790</td>\n",
       "      <td>9</td>\n",
       "      <td>0.243</td>\n",
       "      <td>-5.395</td>\n",
       "      <td>1</td>\n",
       "      <td>0.1130</td>\n",
       "      <td>108.054</td>\n",
       "      <td>3</td>\n",
       "      <td>0.1610</td>\n",
       "    </tr>\n",
       "    <tr>\n",
       "      <th>The Light, The Fire</th>\n",
       "      <td>0.003260</td>\n",
       "      <td>0.453</td>\n",
       "      <td>0.919</td>\n",
       "      <td>6kSu9z1V5xBNZTxcPEKVO8</td>\n",
       "      <td>0.03210</td>\n",
       "      <td>1</td>\n",
       "      <td>0.360</td>\n",
       "      <td>-5.387</td>\n",
       "      <td>1</td>\n",
       "      <td>0.0426</td>\n",
       "      <td>88.490</td>\n",
       "      <td>4</td>\n",
       "      <td>0.4550</td>\n",
       "    </tr>\n",
       "    <tr>\n",
       "      <th>Death Knell for a King</th>\n",
       "      <td>0.000155</td>\n",
       "      <td>0.501</td>\n",
       "      <td>0.991</td>\n",
       "      <td>5IxjGTmS5MIazVDRRiH9jI</td>\n",
       "      <td>0.00256</td>\n",
       "      <td>4</td>\n",
       "      <td>0.344</td>\n",
       "      <td>-4.730</td>\n",
       "      <td>0</td>\n",
       "      <td>0.0528</td>\n",
       "      <td>102.509</td>\n",
       "      <td>4</td>\n",
       "      <td>0.5570</td>\n",
       "    </tr>\n",
       "    <tr>\n",
       "      <th>Urth</th>\n",
       "      <td>0.000008</td>\n",
       "      <td>0.414</td>\n",
       "      <td>0.996</td>\n",
       "      <td>3ne57ejxOaaZrg7obarZnt</td>\n",
       "      <td>0.10800</td>\n",
       "      <td>0</td>\n",
       "      <td>0.243</td>\n",
       "      <td>-4.788</td>\n",
       "      <td>1</td>\n",
       "      <td>0.1830</td>\n",
       "      <td>164.995</td>\n",
       "      <td>4</td>\n",
       "      <td>0.0745</td>\n",
       "    </tr>\n",
       "  </tbody>\n",
       "</table>\n",
       "</div>"
      ],
      "text/plain": [
       "                        acousticness  danceability  energy  \\\n",
       "Virus                       0.000238         0.389   0.993   \n",
       "Djinn                       0.001690         0.422   0.972   \n",
       "The Light, The Fire         0.003260         0.453   0.919   \n",
       "Death Knell for a King      0.000155         0.501   0.991   \n",
       "Urth                        0.000008         0.414   0.996   \n",
       "\n",
       "                                            id  instrumentalness  key  \\\n",
       "Virus                   4vV7hKi3prsHYFl7Pauip1           0.00000    4   \n",
       "Djinn                   1d83wPKf71qUr3iWhxD2vn           0.02790    9   \n",
       "The Light, The Fire     6kSu9z1V5xBNZTxcPEKVO8           0.03210    1   \n",
       "Death Knell for a King  5IxjGTmS5MIazVDRRiH9jI           0.00256    4   \n",
       "Urth                    3ne57ejxOaaZrg7obarZnt           0.10800    0   \n",
       "\n",
       "                        liveness  loudness  mode  speechiness    tempo  \\\n",
       "Virus                      0.211    -2.272     0       0.1510  198.086   \n",
       "Djinn                      0.243    -5.395     1       0.1130  108.054   \n",
       "The Light, The Fire        0.360    -5.387     1       0.0426   88.490   \n",
       "Death Knell for a King     0.344    -4.730     0       0.0528  102.509   \n",
       "Urth                       0.243    -4.788     1       0.1830  164.995   \n",
       "\n",
       "                        time_signature  valence  \n",
       "Virus                                4   0.2820  \n",
       "Djinn                                3   0.1610  \n",
       "The Light, The Fire                  4   0.4550  \n",
       "Death Knell for a King               4   0.5570  \n",
       "Urth                                 4   0.0745  "
      ]
     },
     "execution_count": 39,
     "metadata": {},
     "output_type": "execute_result"
    }
   ],
   "source": [
    "bad_df = bad_df.drop(columns=[\"analysis_url\", \"track_href\", \"type\",\"uri\", \"duration_ms\"])\n",
    "bad_df.head()"
   ]
  },
  {
   "cell_type": "code",
   "execution_count": 40,
   "metadata": {},
   "outputs": [
    {
     "data": {
      "text/html": [
       "<div>\n",
       "<style scoped>\n",
       "    .dataframe tbody tr th:only-of-type {\n",
       "        vertical-align: middle;\n",
       "    }\n",
       "\n",
       "    .dataframe tbody tr th {\n",
       "        vertical-align: top;\n",
       "    }\n",
       "\n",
       "    .dataframe thead th {\n",
       "        text-align: right;\n",
       "    }\n",
       "</style>\n",
       "<table border=\"1\" class=\"dataframe\">\n",
       "  <thead>\n",
       "    <tr style=\"text-align: right;\">\n",
       "      <th></th>\n",
       "      <th>acousticness</th>\n",
       "      <th>danceability</th>\n",
       "      <th>energy</th>\n",
       "      <th>id</th>\n",
       "      <th>instrumentalness</th>\n",
       "      <th>key</th>\n",
       "      <th>liveness</th>\n",
       "      <th>loudness</th>\n",
       "      <th>mode</th>\n",
       "      <th>speechiness</th>\n",
       "      <th>tempo</th>\n",
       "      <th>time_signature</th>\n",
       "      <th>valence</th>\n",
       "      <th>like</th>\n",
       "    </tr>\n",
       "  </thead>\n",
       "  <tbody>\n",
       "    <tr>\n",
       "      <th>Solo</th>\n",
       "      <td>0.849</td>\n",
       "      <td>0.444</td>\n",
       "      <td>0.287</td>\n",
       "      <td>35xSkNIXi504fcEwz9USRB</td>\n",
       "      <td>0.000003</td>\n",
       "      <td>5</td>\n",
       "      <td>0.1610</td>\n",
       "      <td>-10.631</td>\n",
       "      <td>0</td>\n",
       "      <td>0.0375</td>\n",
       "      <td>124.027</td>\n",
       "      <td>4</td>\n",
       "      <td>0.246</td>\n",
       "      <td>1.0</td>\n",
       "    </tr>\n",
       "    <tr>\n",
       "      <th>Saved</th>\n",
       "      <td>0.189</td>\n",
       "      <td>0.739</td>\n",
       "      <td>0.448</td>\n",
       "      <td>248OFOZef6ShXv6DGgbnxU</td>\n",
       "      <td>0.000000</td>\n",
       "      <td>10</td>\n",
       "      <td>0.1180</td>\n",
       "      <td>-10.280</td>\n",
       "      <td>0</td>\n",
       "      <td>0.1380</td>\n",
       "      <td>81.044</td>\n",
       "      <td>4</td>\n",
       "      <td>0.553</td>\n",
       "      <td>1.0</td>\n",
       "    </tr>\n",
       "    <tr>\n",
       "      <th>STFU</th>\n",
       "      <td>0.160</td>\n",
       "      <td>0.824</td>\n",
       "      <td>0.470</td>\n",
       "      <td>2p4p9YGwmJIdf5IA9sSWhm</td>\n",
       "      <td>0.000000</td>\n",
       "      <td>1</td>\n",
       "      <td>0.1500</td>\n",
       "      <td>-7.459</td>\n",
       "      <td>0</td>\n",
       "      <td>0.1760</td>\n",
       "      <td>134.922</td>\n",
       "      <td>4</td>\n",
       "      <td>0.437</td>\n",
       "      <td>1.0</td>\n",
       "    </tr>\n",
       "    <tr>\n",
       "      <th>Get You (feat. Kali Uchis)</th>\n",
       "      <td>0.426</td>\n",
       "      <td>0.659</td>\n",
       "      <td>0.295</td>\n",
       "      <td>6N3qHjcwly8ZuhE4bPYJAX</td>\n",
       "      <td>0.000069</td>\n",
       "      <td>11</td>\n",
       "      <td>0.0795</td>\n",
       "      <td>-8.528</td>\n",
       "      <td>0</td>\n",
       "      <td>0.0322</td>\n",
       "      <td>74.037</td>\n",
       "      <td>4</td>\n",
       "      <td>0.360</td>\n",
       "      <td>1.0</td>\n",
       "    </tr>\n",
       "    <tr>\n",
       "      <th>Gorgeous</th>\n",
       "      <td>0.353</td>\n",
       "      <td>0.834</td>\n",
       "      <td>0.551</td>\n",
       "      <td>75Q69chmd8CEZbVsA4CDMm</td>\n",
       "      <td>0.000000</td>\n",
       "      <td>5</td>\n",
       "      <td>0.1030</td>\n",
       "      <td>-4.217</td>\n",
       "      <td>1</td>\n",
       "      <td>0.4300</td>\n",
       "      <td>76.938</td>\n",
       "      <td>4</td>\n",
       "      <td>0.500</td>\n",
       "      <td>1.0</td>\n",
       "    </tr>\n",
       "  </tbody>\n",
       "</table>\n",
       "</div>"
      ],
      "text/plain": [
       "                            acousticness  danceability  energy  \\\n",
       "Solo                               0.849         0.444   0.287   \n",
       "Saved                              0.189         0.739   0.448   \n",
       "STFU                               0.160         0.824   0.470   \n",
       "Get You (feat. Kali Uchis)         0.426         0.659   0.295   \n",
       "Gorgeous                           0.353         0.834   0.551   \n",
       "\n",
       "                                                id  instrumentalness  key  \\\n",
       "Solo                        35xSkNIXi504fcEwz9USRB          0.000003    5   \n",
       "Saved                       248OFOZef6ShXv6DGgbnxU          0.000000   10   \n",
       "STFU                        2p4p9YGwmJIdf5IA9sSWhm          0.000000    1   \n",
       "Get You (feat. Kali Uchis)  6N3qHjcwly8ZuhE4bPYJAX          0.000069   11   \n",
       "Gorgeous                    75Q69chmd8CEZbVsA4CDMm          0.000000    5   \n",
       "\n",
       "                            liveness  loudness  mode  speechiness    tempo  \\\n",
       "Solo                          0.1610   -10.631     0       0.0375  124.027   \n",
       "Saved                         0.1180   -10.280     0       0.1380   81.044   \n",
       "STFU                          0.1500    -7.459     0       0.1760  134.922   \n",
       "Get You (feat. Kali Uchis)    0.0795    -8.528     0       0.0322   74.037   \n",
       "Gorgeous                      0.1030    -4.217     1       0.4300   76.938   \n",
       "\n",
       "                            time_signature  valence  like  \n",
       "Solo                                     4    0.246   1.0  \n",
       "Saved                                    4    0.553   1.0  \n",
       "STFU                                     4    0.437   1.0  \n",
       "Get You (feat. Kali Uchis)               4    0.360   1.0  \n",
       "Gorgeous                                 4    0.500   1.0  "
      ]
     },
     "execution_count": 40,
     "metadata": {},
     "output_type": "execute_result"
    }
   ],
   "source": [
    "good_ratings = np.ones(len(names))\n",
    "good_df[\"like\"] = good_ratings\n",
    "good_df.head()"
   ]
  },
  {
   "cell_type": "code",
   "execution_count": 41,
   "metadata": {},
   "outputs": [
    {
     "data": {
      "text/html": [
       "<div>\n",
       "<style scoped>\n",
       "    .dataframe tbody tr th:only-of-type {\n",
       "        vertical-align: middle;\n",
       "    }\n",
       "\n",
       "    .dataframe tbody tr th {\n",
       "        vertical-align: top;\n",
       "    }\n",
       "\n",
       "    .dataframe thead th {\n",
       "        text-align: right;\n",
       "    }\n",
       "</style>\n",
       "<table border=\"1\" class=\"dataframe\">\n",
       "  <thead>\n",
       "    <tr style=\"text-align: right;\">\n",
       "      <th></th>\n",
       "      <th>acousticness</th>\n",
       "      <th>danceability</th>\n",
       "      <th>energy</th>\n",
       "      <th>id</th>\n",
       "      <th>instrumentalness</th>\n",
       "      <th>key</th>\n",
       "      <th>liveness</th>\n",
       "      <th>loudness</th>\n",
       "      <th>mode</th>\n",
       "      <th>speechiness</th>\n",
       "      <th>tempo</th>\n",
       "      <th>time_signature</th>\n",
       "      <th>valence</th>\n",
       "      <th>like</th>\n",
       "    </tr>\n",
       "  </thead>\n",
       "  <tbody>\n",
       "    <tr>\n",
       "      <th>Virus</th>\n",
       "      <td>0.000238</td>\n",
       "      <td>0.389</td>\n",
       "      <td>0.993</td>\n",
       "      <td>4vV7hKi3prsHYFl7Pauip1</td>\n",
       "      <td>0.00000</td>\n",
       "      <td>4</td>\n",
       "      <td>0.211</td>\n",
       "      <td>-2.272</td>\n",
       "      <td>0</td>\n",
       "      <td>0.1510</td>\n",
       "      <td>198.086</td>\n",
       "      <td>4</td>\n",
       "      <td>0.2820</td>\n",
       "      <td>0.0</td>\n",
       "    </tr>\n",
       "    <tr>\n",
       "      <th>Djinn</th>\n",
       "      <td>0.001690</td>\n",
       "      <td>0.422</td>\n",
       "      <td>0.972</td>\n",
       "      <td>1d83wPKf71qUr3iWhxD2vn</td>\n",
       "      <td>0.02790</td>\n",
       "      <td>9</td>\n",
       "      <td>0.243</td>\n",
       "      <td>-5.395</td>\n",
       "      <td>1</td>\n",
       "      <td>0.1130</td>\n",
       "      <td>108.054</td>\n",
       "      <td>3</td>\n",
       "      <td>0.1610</td>\n",
       "      <td>0.0</td>\n",
       "    </tr>\n",
       "    <tr>\n",
       "      <th>The Light, The Fire</th>\n",
       "      <td>0.003260</td>\n",
       "      <td>0.453</td>\n",
       "      <td>0.919</td>\n",
       "      <td>6kSu9z1V5xBNZTxcPEKVO8</td>\n",
       "      <td>0.03210</td>\n",
       "      <td>1</td>\n",
       "      <td>0.360</td>\n",
       "      <td>-5.387</td>\n",
       "      <td>1</td>\n",
       "      <td>0.0426</td>\n",
       "      <td>88.490</td>\n",
       "      <td>4</td>\n",
       "      <td>0.4550</td>\n",
       "      <td>0.0</td>\n",
       "    </tr>\n",
       "    <tr>\n",
       "      <th>Death Knell for a King</th>\n",
       "      <td>0.000155</td>\n",
       "      <td>0.501</td>\n",
       "      <td>0.991</td>\n",
       "      <td>5IxjGTmS5MIazVDRRiH9jI</td>\n",
       "      <td>0.00256</td>\n",
       "      <td>4</td>\n",
       "      <td>0.344</td>\n",
       "      <td>-4.730</td>\n",
       "      <td>0</td>\n",
       "      <td>0.0528</td>\n",
       "      <td>102.509</td>\n",
       "      <td>4</td>\n",
       "      <td>0.5570</td>\n",
       "      <td>0.0</td>\n",
       "    </tr>\n",
       "    <tr>\n",
       "      <th>Urth</th>\n",
       "      <td>0.000008</td>\n",
       "      <td>0.414</td>\n",
       "      <td>0.996</td>\n",
       "      <td>3ne57ejxOaaZrg7obarZnt</td>\n",
       "      <td>0.10800</td>\n",
       "      <td>0</td>\n",
       "      <td>0.243</td>\n",
       "      <td>-4.788</td>\n",
       "      <td>1</td>\n",
       "      <td>0.1830</td>\n",
       "      <td>164.995</td>\n",
       "      <td>4</td>\n",
       "      <td>0.0745</td>\n",
       "      <td>0.0</td>\n",
       "    </tr>\n",
       "  </tbody>\n",
       "</table>\n",
       "</div>"
      ],
      "text/plain": [
       "                        acousticness  danceability  energy  \\\n",
       "Virus                       0.000238         0.389   0.993   \n",
       "Djinn                       0.001690         0.422   0.972   \n",
       "The Light, The Fire         0.003260         0.453   0.919   \n",
       "Death Knell for a King      0.000155         0.501   0.991   \n",
       "Urth                        0.000008         0.414   0.996   \n",
       "\n",
       "                                            id  instrumentalness  key  \\\n",
       "Virus                   4vV7hKi3prsHYFl7Pauip1           0.00000    4   \n",
       "Djinn                   1d83wPKf71qUr3iWhxD2vn           0.02790    9   \n",
       "The Light, The Fire     6kSu9z1V5xBNZTxcPEKVO8           0.03210    1   \n",
       "Death Knell for a King  5IxjGTmS5MIazVDRRiH9jI           0.00256    4   \n",
       "Urth                    3ne57ejxOaaZrg7obarZnt           0.10800    0   \n",
       "\n",
       "                        liveness  loudness  mode  speechiness    tempo  \\\n",
       "Virus                      0.211    -2.272     0       0.1510  198.086   \n",
       "Djinn                      0.243    -5.395     1       0.1130  108.054   \n",
       "The Light, The Fire        0.360    -5.387     1       0.0426   88.490   \n",
       "Death Knell for a King     0.344    -4.730     0       0.0528  102.509   \n",
       "Urth                       0.243    -4.788     1       0.1830  164.995   \n",
       "\n",
       "                        time_signature  valence  like  \n",
       "Virus                                4   0.2820   0.0  \n",
       "Djinn                                3   0.1610   0.0  \n",
       "The Light, The Fire                  4   0.4550   0.0  \n",
       "Death Knell for a King               4   0.5570   0.0  \n",
       "Urth                                 4   0.0745   0.0  "
      ]
     },
     "execution_count": 41,
     "metadata": {},
     "output_type": "execute_result"
    }
   ],
   "source": [
    "bad_ratings = np.zeros(len(bad_names))\n",
    "bad_df[\"like\"] = bad_ratings\n",
    "bad_df.head()"
   ]
  },
  {
   "cell_type": "code",
   "execution_count": 42,
   "metadata": {},
   "outputs": [
    {
     "data": {
      "text/html": [
       "<div>\n",
       "<style scoped>\n",
       "    .dataframe tbody tr th:only-of-type {\n",
       "        vertical-align: middle;\n",
       "    }\n",
       "\n",
       "    .dataframe tbody tr th {\n",
       "        vertical-align: top;\n",
       "    }\n",
       "\n",
       "    .dataframe thead th {\n",
       "        text-align: right;\n",
       "    }\n",
       "</style>\n",
       "<table border=\"1\" class=\"dataframe\">\n",
       "  <thead>\n",
       "    <tr style=\"text-align: right;\">\n",
       "      <th></th>\n",
       "      <th>acousticness</th>\n",
       "      <th>danceability</th>\n",
       "      <th>energy</th>\n",
       "      <th>id</th>\n",
       "      <th>instrumentalness</th>\n",
       "      <th>key</th>\n",
       "      <th>liveness</th>\n",
       "      <th>loudness</th>\n",
       "      <th>mode</th>\n",
       "      <th>speechiness</th>\n",
       "      <th>tempo</th>\n",
       "      <th>time_signature</th>\n",
       "      <th>valence</th>\n",
       "      <th>like</th>\n",
       "    </tr>\n",
       "  </thead>\n",
       "  <tbody>\n",
       "    <tr>\n",
       "      <th>Solo</th>\n",
       "      <td>0.849</td>\n",
       "      <td>0.444</td>\n",
       "      <td>0.287</td>\n",
       "      <td>35xSkNIXi504fcEwz9USRB</td>\n",
       "      <td>0.000003</td>\n",
       "      <td>5</td>\n",
       "      <td>0.1610</td>\n",
       "      <td>-10.631</td>\n",
       "      <td>0</td>\n",
       "      <td>0.0375</td>\n",
       "      <td>124.027</td>\n",
       "      <td>4</td>\n",
       "      <td>0.246</td>\n",
       "      <td>1.0</td>\n",
       "    </tr>\n",
       "    <tr>\n",
       "      <th>Saved</th>\n",
       "      <td>0.189</td>\n",
       "      <td>0.739</td>\n",
       "      <td>0.448</td>\n",
       "      <td>248OFOZef6ShXv6DGgbnxU</td>\n",
       "      <td>0.000000</td>\n",
       "      <td>10</td>\n",
       "      <td>0.1180</td>\n",
       "      <td>-10.280</td>\n",
       "      <td>0</td>\n",
       "      <td>0.1380</td>\n",
       "      <td>81.044</td>\n",
       "      <td>4</td>\n",
       "      <td>0.553</td>\n",
       "      <td>1.0</td>\n",
       "    </tr>\n",
       "    <tr>\n",
       "      <th>STFU</th>\n",
       "      <td>0.160</td>\n",
       "      <td>0.824</td>\n",
       "      <td>0.470</td>\n",
       "      <td>2p4p9YGwmJIdf5IA9sSWhm</td>\n",
       "      <td>0.000000</td>\n",
       "      <td>1</td>\n",
       "      <td>0.1500</td>\n",
       "      <td>-7.459</td>\n",
       "      <td>0</td>\n",
       "      <td>0.1760</td>\n",
       "      <td>134.922</td>\n",
       "      <td>4</td>\n",
       "      <td>0.437</td>\n",
       "      <td>1.0</td>\n",
       "    </tr>\n",
       "    <tr>\n",
       "      <th>Get You (feat. Kali Uchis)</th>\n",
       "      <td>0.426</td>\n",
       "      <td>0.659</td>\n",
       "      <td>0.295</td>\n",
       "      <td>6N3qHjcwly8ZuhE4bPYJAX</td>\n",
       "      <td>0.000069</td>\n",
       "      <td>11</td>\n",
       "      <td>0.0795</td>\n",
       "      <td>-8.528</td>\n",
       "      <td>0</td>\n",
       "      <td>0.0322</td>\n",
       "      <td>74.037</td>\n",
       "      <td>4</td>\n",
       "      <td>0.360</td>\n",
       "      <td>1.0</td>\n",
       "    </tr>\n",
       "    <tr>\n",
       "      <th>Gorgeous</th>\n",
       "      <td>0.353</td>\n",
       "      <td>0.834</td>\n",
       "      <td>0.551</td>\n",
       "      <td>75Q69chmd8CEZbVsA4CDMm</td>\n",
       "      <td>0.000000</td>\n",
       "      <td>5</td>\n",
       "      <td>0.1030</td>\n",
       "      <td>-4.217</td>\n",
       "      <td>1</td>\n",
       "      <td>0.4300</td>\n",
       "      <td>76.938</td>\n",
       "      <td>4</td>\n",
       "      <td>0.500</td>\n",
       "      <td>1.0</td>\n",
       "    </tr>\n",
       "  </tbody>\n",
       "</table>\n",
       "</div>"
      ],
      "text/plain": [
       "                            acousticness  danceability  energy  \\\n",
       "Solo                               0.849         0.444   0.287   \n",
       "Saved                              0.189         0.739   0.448   \n",
       "STFU                               0.160         0.824   0.470   \n",
       "Get You (feat. Kali Uchis)         0.426         0.659   0.295   \n",
       "Gorgeous                           0.353         0.834   0.551   \n",
       "\n",
       "                                                id  instrumentalness  key  \\\n",
       "Solo                        35xSkNIXi504fcEwz9USRB          0.000003    5   \n",
       "Saved                       248OFOZef6ShXv6DGgbnxU          0.000000   10   \n",
       "STFU                        2p4p9YGwmJIdf5IA9sSWhm          0.000000    1   \n",
       "Get You (feat. Kali Uchis)  6N3qHjcwly8ZuhE4bPYJAX          0.000069   11   \n",
       "Gorgeous                    75Q69chmd8CEZbVsA4CDMm          0.000000    5   \n",
       "\n",
       "                            liveness  loudness  mode  speechiness    tempo  \\\n",
       "Solo                          0.1610   -10.631     0       0.0375  124.027   \n",
       "Saved                         0.1180   -10.280     0       0.1380   81.044   \n",
       "STFU                          0.1500    -7.459     0       0.1760  134.922   \n",
       "Get You (feat. Kali Uchis)    0.0795    -8.528     0       0.0322   74.037   \n",
       "Gorgeous                      0.1030    -4.217     1       0.4300   76.938   \n",
       "\n",
       "                            time_signature  valence  like  \n",
       "Solo                                     4    0.246   1.0  \n",
       "Saved                                    4    0.553   1.0  \n",
       "STFU                                     4    0.437   1.0  \n",
       "Get You (feat. Kali Uchis)               4    0.360   1.0  \n",
       "Gorgeous                                 4    0.500   1.0  "
      ]
     },
     "execution_count": 42,
     "metadata": {},
     "output_type": "execute_result"
    }
   ],
   "source": [
    "all_playlist = pd.concat([good_df, bad_df])\n",
    "all_playlist.head()"
   ]
  },
  {
   "cell_type": "code",
   "execution_count": 43,
   "metadata": {},
   "outputs": [
    {
     "name": "stderr",
     "output_type": "stream",
     "text": [
      "c:\\users\\tchun\\appdata\\local\\programs\\python\\python36\\lib\\site-packages\\scipy\\stats\\stats.py:1713: FutureWarning: Using a non-tuple sequence for multidimensional indexing is deprecated; use `arr[tuple(seq)]` instead of `arr[seq]`. In the future this will be interpreted as an array index, `arr[np.array(seq)]`, which will result either in an error or a different result.\n",
      "  return np.add.reduce(sorted[indexer] * weights, axis=axis) / sumval\n"
     ]
    },
    {
     "data": {
      "text/plain": [
       "<matplotlib.axes._subplots.AxesSubplot at 0x1f24986c4e0>"
      ]
     },
     "execution_count": 43,
     "metadata": {},
     "output_type": "execute_result"
    },
    {
     "data": {
      "image/png": "[encoded data removed]",
      "text/plain": [
       "<Figure size 432x288 with 1 Axes>"
      ]
     },
     "metadata": {
      "needs_background": "light"
     },
     "output_type": "display_data"
    }
   ],
   "source": [
    "sns.distplot(good_df[\"acousticness\"], color = 'b') \n",
    "sns.distplot(bad_df[\"acousticness\"], color = 'r')"
   ]
  },
  {
   "cell_type": "code",
   "execution_count": 44,
   "metadata": {},
   "outputs": [
    {
     "data": {
      "text/plain": [
       "<matplotlib.axes._subplots.AxesSubplot at 0x1f244944cf8>"
      ]
     },
     "execution_count": 44,
     "metadata": {},
     "output_type": "execute_result"
    },
    {
     "data": {
      "image/png": "[encoded data removed]",
      "text/plain": [
       "<Figure size 432x288 with 1 Axes>"
      ]
     },
     "metadata": {
      "needs_background": "light"
     },
     "output_type": "display_data"
    }
   ],
   "source": [
    "sns.distplot(good_df[\"tempo\"], color = 'b') #tempo is 80-160 ish, peaks at 130\n",
    "sns.distplot(bad_df[\"tempo\"], color = 'r') #tempo is around 75-150 ish; slightly lower than good playlist, peaks at 100"
   ]
  },
  {
   "cell_type": "code",
   "execution_count": 45,
   "metadata": {},
   "outputs": [
    {
     "data": {
      "text/plain": [
       "<matplotlib.axes._subplots.AxesSubplot at 0x1f2448938d0>"
      ]
     },
     "execution_count": 45,
     "metadata": {},
     "output_type": "execute_result"
    },
    {
     "data": {
      "image/png": "[encoded data removed]",
      "text/plain": [
       "<Figure size 432x288 with 1 Axes>"
      ]
     },
     "metadata": {
      "needs_background": "light"
     },
     "output_type": "display_data"
    }
   ],
   "source": [
    "sns.distplot(good_df[\"danceability\"], color = 'b') # danceability peaks around .5\n",
    "sns.distplot(bad_df[\"danceability\"], color = 'r') # danceability peaks around .58, slightly higher than good playlist's"
   ]
  },
  {
   "cell_type": "code",
   "execution_count": 46,
   "metadata": {},
   "outputs": [
    {
     "data": {
      "text/plain": [
       "<matplotlib.axes._subplots.AxesSubplot at 0x1f24ab4d9b0>"
      ]
     },
     "execution_count": 46,
     "metadata": {},
     "output_type": "execute_result"
    },
    {
     "data": {
      "image/png": "[encoded data removed]",
      "text/plain": [
       "<Figure size 432x288 with 1 Axes>"
      ]
     },
     "metadata": {
      "needs_background": "light"
     },
     "output_type": "display_data"
    }
   ],
   "source": [
    "sns.distplot(good_df[\"instrumentalness\"])\n",
    "sns.distplot(bad_df[\"instrumentalness\"])"
   ]
  },
  {
   "cell_type": "code",
   "execution_count": 47,
   "metadata": {},
   "outputs": [
    {
     "data": {
      "text/plain": [
       "<matplotlib.axes._subplots.AxesSubplot at 0x1f24aca7fd0>"
      ]
     },
     "execution_count": 47,
     "metadata": {},
     "output_type": "execute_result"
    },
    {
     "data": {
      "image/png": "[encoded data removed]",
      "text/plain": [
       "<Figure size 432x288 with 1 Axes>"
      ]
     },
     "metadata": {
      "needs_background": "light"
     },
     "output_type": "display_data"
    }
   ],
   "source": [
    "sns.distplot(good_df[\"energy\"], color = 'b') \n",
    "sns.distplot(bad_df[\"energy\"], color = 'r')"
   ]
  },
  {
   "cell_type": "code",
   "execution_count": 48,
   "metadata": {},
   "outputs": [
    {
     "data": {
      "text/plain": [
       "<matplotlib.axes._subplots.AxesSubplot at 0x1f24ac8feb8>"
      ]
     },
     "execution_count": 48,
     "metadata": {},
     "output_type": "execute_result"
    },
    {
     "data": {
      "image/png": "[encoded data removed]",
      "text/plain": [
       "<Figure size 432x288 with 1 Axes>"
      ]
     },
     "metadata": {
      "needs_background": "light"
     },
     "output_type": "display_data"
    }
   ],
   "source": [
    "sns.distplot(good_df[\"key\"], color = 'b') \n",
    "sns.distplot(bad_df[\"key\"], color  = 'r')"
   ]
  },
  {
   "cell_type": "code",
   "execution_count": 49,
   "metadata": {},
   "outputs": [
    {
     "data": {
      "text/plain": [
       "<matplotlib.axes._subplots.AxesSubplot at 0x1f24ad89a58>"
      ]
     },
     "execution_count": 49,
     "metadata": {},
     "output_type": "execute_result"
    },
    {
     "data": {
      "image/png": "[encoded data removed]",
      "text/plain": [
       "<Figure size 432x288 with 1 Axes>"
      ]
     },
     "metadata": {
      "needs_background": "light"
     },
     "output_type": "display_data"
    }
   ],
   "source": [
    "sns.distplot(good_df[\"liveness\"], color = 'b') \n",
    "sns.distplot(bad_df[\"liveness\"], color = 'r')"
   ]
  },
  {
   "cell_type": "code",
   "execution_count": 50,
   "metadata": {},
   "outputs": [
    {
     "data": {
      "text/plain": [
       "<matplotlib.axes._subplots.AxesSubplot at 0x1f24ad04080>"
      ]
     },
     "execution_count": 50,
     "metadata": {},
     "output_type": "execute_result"
    },
    {
     "data": {
      "image/png": "[encoded data removed]",
      "text/plain": [
       "<Figure size 432x288 with 1 Axes>"
      ]
     },
     "metadata": {
      "needs_background": "light"
     },
     "output_type": "display_data"
    }
   ],
   "source": [
    "sns.distplot(good_df[\"loudness\"], color = 'b') \n",
    "sns.distplot(bad_df[\"loudness\"], color = 'r')"
   ]
  },
  {
   "cell_type": "code",
   "execution_count": 51,
   "metadata": {},
   "outputs": [
    {
     "data": {
      "text/plain": [
       "<matplotlib.axes._subplots.AxesSubplot at 0x1f24aec6630>"
      ]
     },
     "execution_count": 51,
     "metadata": {},
     "output_type": "execute_result"
    },
    {
     "data": {
      "image/png": "[encoded data removed]",
      "text/plain": [
       "<Figure size 432x288 with 1 Axes>"
      ]
     },
     "metadata": {
      "needs_background": "light"
     },
     "output_type": "display_data"
    }
   ],
   "source": [
    "sns.distplot(good_df[\"speechiness\"], color = \"b\") \n",
    "sns.distplot(bad_df[\"speechiness\"], color = \"r\")"
   ]
  },
  {
   "cell_type": "code",
   "execution_count": 52,
   "metadata": {},
   "outputs": [
    {
     "data": {
      "text/plain": [
       "<matplotlib.axes._subplots.AxesSubplot at 0x1f24af5b9b0>"
      ]
     },
     "execution_count": 52,
     "metadata": {},
     "output_type": "execute_result"
    },
    {
     "data": {
      "image/png": "[encoded data removed]",
      "text/plain": [
       "<Figure size 432x288 with 1 Axes>"
      ]
     },
     "metadata": {
      "needs_background": "light"
     },
     "output_type": "display_data"
    }
   ],
   "source": [
    "sns.distplot(good_df[\"tempo\"], color = \"b\") \n",
    "sns.distplot(bad_df[\"tempo\"], color = \"r\")"
   ]
  },
  {
   "cell_type": "code",
   "execution_count": 53,
   "metadata": {},
   "outputs": [
    {
     "data": {
      "text/plain": [
       "<matplotlib.axes._subplots.AxesSubplot at 0x1f24afd2ac8>"
      ]
     },
     "execution_count": 53,
     "metadata": {},
     "output_type": "execute_result"
    },
    {
     "data": {
      "image/png": "[encoded data removed]",
      "text/plain": [
       "<Figure size 432x288 with 1 Axes>"
      ]
     },
     "metadata": {
      "needs_background": "light"
     },
     "output_type": "display_data"
    }
   ],
   "source": [
    "sns.distplot(good_df[\"valence\"], color = \"b\") \n",
    "sns.distplot(bad_df[\"valence\"], color = \"r\")"
   ]
  },
  {
   "cell_type": "code",
   "execution_count": 54,
   "metadata": {},
   "outputs": [],
   "source": [
    "frames = [good_df, bad_df]"
   ]
  },
  {
   "cell_type": "code",
   "execution_count": 55,
   "metadata": {},
   "outputs": [],
   "source": [
    "training_data = pd.concat(frames)"
   ]
  },
  {
   "cell_type": "code",
   "execution_count": 56,
   "metadata": {},
   "outputs": [],
   "source": [
    "from sklearn.model_selection import train_test_split\n",
    "features = [\"danceability\", \"speechiness\", \"energy\", \"loudness\", \"instrumentalness\", \"acousticness\"]\n",
    "train, test = train_test_split(training_data, test_size = .2)\n",
    "\n",
    "train_x = train[features]\n",
    "train_y = train[\"like\"]\n",
    "test_x = test[features]\n",
    "test_y = test[\"like\"]"
   ]
  },
  {
   "cell_type": "code",
   "execution_count": 57,
   "metadata": {},
   "outputs": [
    {
     "data": {
      "text/plain": [
       "0.9375"
      ]
     },
     "execution_count": 57,
     "metadata": {},
     "output_type": "execute_result"
    }
   ],
   "source": [
    "from sklearn.neighbors import KNeighborsClassifier\n",
    "knn = KNeighborsClassifier(5)\n",
    "knn.fit(train_x, train_y)\n",
    "y_pred = knn.predict(test_x)\n",
    "knn.score(test_x, test_y)"
   ]
  },
  {
   "cell_type": "code",
   "execution_count": 58,
   "metadata": {},
   "outputs": [
    {
     "data": {
      "text/plain": [
       "1.0"
      ]
     },
     "execution_count": 58,
     "metadata": {},
     "output_type": "execute_result"
    }
   ],
   "source": [
    "from sklearn.tree import DecisionTreeClassifier\n",
    "dtc = DecisionTreeClassifier()\n",
    "dtc.fit(train_x, train_y)\n",
    "y_pred = dtc.predict(test_x)\n",
    "dtc.score(test_x, test_y)"
   ]
  },
  {
   "cell_type": "code",
   "execution_count": 59,
   "metadata": {},
   "outputs": [
    {
     "name": "stderr",
     "output_type": "stream",
     "text": [
      "c:\\users\\tchun\\appdata\\local\\programs\\python\\python36\\lib\\site-packages\\sklearn\\ensemble\\forest.py:246: FutureWarning: The default value of n_estimators will change from 10 in version 0.20 to 100 in 0.22.\n",
      "  \"10 in version 0.20 to 100 in 0.22.\", FutureWarning)\n"
     ]
    },
    {
     "data": {
      "text/plain": [
       "1.0"
      ]
     },
     "execution_count": 59,
     "metadata": {},
     "output_type": "execute_result"
    }
   ],
   "source": [
    "from sklearn.ensemble import RandomForestClassifier\n",
    "rfc = RandomForestClassifier()\n",
    "rfc.fit(train_x, train_y)\n",
    "y_pred = rfc.predict(test_x)\n",
    "rfc.score(test_x, test_y)"
   ]
  },
  {
   "cell_type": "code",
   "execution_count": 60,
   "metadata": {
    "scrolled": true
   },
   "outputs": [
    {
     "name": "stderr",
     "output_type": "stream",
     "text": [
      "c:\\users\\tchun\\appdata\\local\\programs\\python\\python36\\lib\\site-packages\\sklearn\\linear_model\\logistic.py:433: FutureWarning: Default solver will be changed to 'lbfgs' in 0.22. Specify a solver to silence this warning.\n",
      "  FutureWarning)\n"
     ]
    },
    {
     "data": {
      "text/plain": [
       "0.9375"
      ]
     },
     "execution_count": 60,
     "metadata": {},
     "output_type": "execute_result"
    }
   ],
   "source": [
    "from sklearn.linear_model import LogisticRegression\n",
    "lr = LogisticRegression()\n",
    "lr.fit(train_x, train_y)\n",
    "y_pred = lr.predict(test_x)\n",
    "lr.score(test_x, test_y)"
   ]
  },
  {
   "cell_type": "code",
   "execution_count": 69,
   "metadata": {},
   "outputs": [
    {
     "name": "stdout",
     "output_type": "stream",
     "text": [
      "7osMcQED2KtnBhB3lwjZww\n",
      "98\n"
     ]
    }
   ],
   "source": [
    "#use user id and playlist id for function and get the features, call predict in our func\n",
    "#pulls songs from that playlist, get the ones that return 1\n",
    "\n",
    "#paramters: playlist users id, playlist id, own id (so spotify can create that playlsit for your account)\n",
    "#\n",
    "\n",
    "def make_recs(user_id, playlist_user, playlist_id):\n",
    "    recommendations = sp.user_playlist_create(user_id, \"recommendations\")\n",
    "    recommendations_id = recommendations['id']\n",
    "    print(recommendations_id)\n",
    "    \n",
    "    temp = sp.user_playlist(playlist_user, playlist_id)[\"tracks\"][\"items\"]\n",
    "    \n",
    "    names = []\n",
    "    features= []\n",
    "    ids = []\n",
    "    \n",
    "    for i in temp:\n",
    "        ids.append(i[\"track\"][\"id\"])\n",
    "        names.append(i[\"track\"][\"name\"])\n",
    "    \n",
    "    for i in sp.audio_features(ids):\n",
    "        features.append(i)\n",
    "    print(len(names))\n",
    "        \n",
    "    playlist_df = pd.DataFrame(features, index= names)\n",
    "    playlist_df = playlist_df.drop(columns=[\"analysis_url\", \"track_href\", \"type\",\"uri\", \"duration_ms\"])\n",
    "    \n",
    "    features = [\"danceability\", \"speechiness\", \"energy\", \"loudness\", \"instrumentalness\", \"acousticness\"]\n",
    "    predict = rfc.predict(playlist_df[features])\n",
    "    playlist_df[\"like\"] = predict\n",
    "    \n",
    "    final_recs = playlist_df[playlist_df[\"like\"] == 1]\n",
    "    final_ids = final_recs['id'].tolist()\n",
    "    \n",
    "    sp.user_playlist_add_tracks(user_id, recommendations_id, final_ids, None )\n",
    "    #print(final_recs)\n",
    "\n",
    "make_recs('tiff_chung', 'nxuzwr3ncg3ks6f1iy1grrrvc', '356RdloI1Y4ozLdUTh0FAU')"
   ]
  },
  {
   "cell_type": "code",
   "execution_count": null,
   "metadata": {},
   "outputs": [],
   "source": []
  },
  {
   "cell_type": "code",
   "execution_count": null,
   "metadata": {},
   "outputs": [],
   "source": []
  }
 ],
 "metadata": {
  "kernelspec": {
   "display_name": "Python 3",
   "language": "python",
   "name": "python3"
  },
  "language_info": {
   "codemirror_mode": {
    "name": "ipython",
    "version": 3
   },
   "file_extension": ".py",
   "mimetype": "text/x-python",
   "name": "python",
   "nbconvert_exporter": "python",
   "pygments_lexer": "ipython3",
   "version": "3.6.2"
  }
 },
 "nbformat": 4,
 "nbformat_minor": 2
}
